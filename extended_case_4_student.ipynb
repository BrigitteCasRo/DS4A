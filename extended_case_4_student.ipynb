{
 "cells": [
  {
   "cell_type": "markdown",
   "metadata": {},
   "source": [
    "# Generating useful features for further analysis on Amazon reviews\n",
    "\n",
    "## Introduction\n",
    "\n",
    "**Business Context.** You are a business consultant with new clients that are interested in analyzing reviews of their products on Amazon (as opposed to Yelp). They want to answer business questions like: \"What are the most important factors driving negative reviews?\", \"Have there been any large changes to customer satisfaction/reviews over time?\", etc.\n",
    "\n",
    "**Business Problem.** Your main task is to **explore the given data and use the results of your investigation to engineer relevant features that could facilitate subsequent analysis and model-building**.\n",
    "\n",
    "**Analytical Context.** The dataset provided is a large body of reviews related to movies and television left on Amazon between 1996 and 2014. When exploring our dataset, we will quickly encounter a familiar problem we discussed in the previous case: the word \"good\" is one of the most important words in both positive *and* negative reviews. Thus, we must develop methods to put \"good\" in the appropriate context."
   ]
  },
  {
   "cell_type": "markdown",
   "metadata": {},
   "source": [
    "## Loading the data\n",
    "\n",
    "We use a dataset of around 37,000 video reviews from Amazon Instant Video and 1,700,000 movie and TV reviews, all obtained from the website: http://jmcauley.ucsd.edu/data/amazon/. Note that there are much larger datasets available at the same site. We can expect better and more consistent results on larger datasets (such as book reviews). Note that these datasets are compressed (gzipped), and they are in [JSON](https://en.wikipedia.org/wiki/JSON) format, with each line representing a review and each line being its own JSON object.\n",
    "\n",
    "We begin by loading the dataset below:"
   ]
  },
  {
   "cell_type": "code",
   "execution_count": 1,
   "metadata": {},
   "outputs": [],
   "source": [
    "%matplotlib inline"
   ]
  },
  {
   "cell_type": "code",
   "execution_count": 2,
   "metadata": {},
   "outputs": [
    {
     "name": "stderr",
     "output_type": "stream",
     "text": [
      "[nltk_data] Downloading package punkt to\n",
      "[nltk_data]     C:\\Users\\k.castaneda\\AppData\\Roaming\\nltk_data...\n",
      "[nltk_data]   Package punkt is already up-to-date!\n"
     ]
    },
    {
     "name": "stdout",
     "output_type": "stream",
     "text": [
      "Wall time: 1min 17s\n"
     ]
    }
   ],
   "source": [
    "%%time\n",
    "import gzip\n",
    "import json\n",
    "import string\n",
    "\n",
    "import nltk # imports the natural language toolkit\n",
    "import pandas as pd\n",
    "import plotly\n",
    "\n",
    "nltk.download('punkt')\n",
    "\n",
    "\n",
    "# we can tell pandas that our file is in gzip format and it will handle the decompression for us\n",
    "# we also use `lines=True` to indicate that each line of the file is its own JSON object\n",
    "instant_video = pd.read_json(\"reviews_Amazon_Instant_Video_5.json.gz\", lines=True, compression='gzip')\n",
    "\n",
    "\n",
    "# ----------\n",
    "# The Movies and TV file is very big. If you have problems loading it, you can load only the first \n",
    "# 100,000 reviews by using 'chunksize' (uncomment the line with 'chunksize' and comment out the line \n",
    "# after that which loads the entire file into `movies_tv`). All of the analysis can be \n",
    "# done in the same way using only the subset of reviews but some of the results might be different from the examples.\n",
    "# ----------\n",
    "# movies_tv = next(pd.read_json(\"reviews_Movies_and_TV_5.json.gz\", lines=True, compression='gzip', chunksize=100000))\n",
    "movies_tv = pd.read_json(\"reviews_Movies_and_TV_5.json.gz\", lines=True, compression='gzip')"
   ]
  },
  {
   "cell_type": "markdown",
   "metadata": {},
   "source": [
    "## Examining the data\n",
    "\n",
    "We take a look at the first 5 rows of each dataset to see what attributes are available. These are\n",
    "\n",
    "* **reviewerID:** A unique ID to identify the author of the review.\n",
    "* **asin:** The [\"Amazon Standard Identification Number\"](https://www.amazon.com/gp/seller/asin-upc-isbn-info.html) which provides more information about the exact product and version.\n",
    "* **reviewerName:** The username chosen by the reviewer.\n",
    "* **helpful:** A record of how many users indicated that the review was helpful/not helpful.\n",
    "* **reviewText:** The full text of the review.\n",
    "* **overall:** The overall rating (1-5) left by the reviewer.\n",
    "* **summary:** A short version of the review, used as the title.\n",
    "* **unixReviewTime:** The date that the review was created, in [Unix Epoch](https://en.wikipedia.org/wiki/Unix_time) format.\n",
    "* **reviewTime:** A human readable date giving the day, month, and year.\n",
    "</font>"
   ]
  },
  {
   "cell_type": "code",
   "execution_count": 3,
   "metadata": {},
   "outputs": [
    {
     "name": "stdout",
     "output_type": "stream",
     "text": [
      "37126\n",
      "       reviewerID        asin                    reviewerName helpful  \\\n",
      "0  A11N155CW1UV02  B000H00VBQ                        AdrianaM  [0, 0]   \n",
      "1  A3BC8O2KCL29V2  B000H00VBQ                         Carol T  [0, 0]   \n",
      "2   A60D5HQFOTSOM  B000H00VBQ  Daniel Cooper \"dancoopermedia\"  [0, 1]   \n",
      "3  A1RJPIGRSNX4PW  B000H00VBQ                  J. Kaplan \"JJ\"  [0, 0]   \n",
      "4  A16XRPF40679KG  B000H00VBQ                   Michael Dobey  [1, 1]   \n",
      "\n",
      "                                          reviewText  overall  \\\n",
      "0  I had big expectations because I love English ...        2   \n",
      "1  I highly recommend this series. It is a must f...        5   \n",
      "2  This one is a real snoozer. Don't believe anyt...        1   \n",
      "3  Mysteries are interesting.  The tension betwee...        4   \n",
      "4  This show always is excellent, as far as briti...        5   \n",
      "\n",
      "                          summary  unixReviewTime   reviewTime  \n",
      "0      A little bit boring for me      1399075200   05 3, 2014  \n",
      "1           Excellent Grown Up TV      1346630400   09 3, 2012  \n",
      "2           Way too boring for me      1381881600  10 16, 2013  \n",
      "3     Robson Green is mesmerizing      1383091200  10 30, 2013  \n",
      "4  Robson green and great writing      1234310400  02 11, 2009  \n"
     ]
    }
   ],
   "source": [
    "print(len(instant_video))\n",
    "print(instant_video.head(5))"
   ]
  },
  {
   "cell_type": "code",
   "execution_count": 4,
   "metadata": {},
   "outputs": [
    {
     "name": "stdout",
     "output_type": "stream",
     "text": [
      "1697533\n",
      "       reviewerID        asin                         reviewerName helpful  \\\n",
      "0   ADZPIG9QOCDG5  0005019281  Alice L. Larson \"alice-loves-books\"  [0, 0]   \n",
      "1  A35947ZP82G7JH  0005019281                        Amarah Strack  [0, 0]   \n",
      "2  A3UORV8A9D5L2E  0005019281                      Amazon Customer  [0, 0]   \n",
      "3  A1VKW06X1O2X7V  0005019281           Amazon Customer \"Softmill\"  [0, 0]   \n",
      "4  A3R27T4HADWFFJ  0005019281                                 BABE  [0, 0]   \n",
      "\n",
      "                                          reviewText  overall  \\\n",
      "0  This is a charming version of the classic Dick...        4   \n",
      "1  It was good but not as emotionally moving as t...        3   \n",
      "2  Don't get me wrong, Winkler is a wonderful cha...        3   \n",
      "3  Henry Winkler is very good in this twist on th...        5   \n",
      "4  This is one of the best Scrooge movies out.  H...        4   \n",
      "\n",
      "                                        summary  unixReviewTime   reviewTime  \n",
      "0                     good version of a classic      1203984000  02 26, 2008  \n",
      "1                        Good but not as moving      1388361600  12 30, 2013  \n",
      "2         Winkler's Performance was ok at best!      1388361600  12 30, 2013  \n",
      "3  It's an enjoyable twist on the classic story      1202860800  02 13, 2008  \n",
      "4                              Best Scrooge yet      1387670400  12 22, 2013  \n"
     ]
    }
   ],
   "source": [
    "print(len(movies_tv))\n",
    "print(movies_tv.head(5))"
   ]
  },
  {
   "cell_type": "markdown",
   "metadata": {},
   "source": [
    "We notice that `movies_tv` is extremely long with nearly 2 million reviews, and several columns seem uninteresting or hard to work with (e.g. `reviewerID`, `asin`, `reviewername`, `reviewtime`). We drop some information to make some of our later analysis more efficient. We also add a datetime column with Python datetime objects to more easily summarize the data:"
   ]
  },
  {
   "cell_type": "code",
   "execution_count": 5,
   "metadata": {},
   "outputs": [
    {
     "name": "stdout",
     "output_type": "stream",
     "text": [
      "Wall time: 10.1 s\n"
     ]
    }
   ],
   "source": [
    "%%time\n",
    "movies_tv['datetime'] = pd.to_datetime(movies_tv['reviewTime'], format=\"%m %d, %Y\")\n",
    "instant_video['datetime'] = pd.to_datetime(instant_video['reviewTime'], format=\"%m %d, %Y\")"
   ]
  },
  {
   "cell_type": "code",
   "execution_count": 6,
   "metadata": {},
   "outputs": [
    {
     "data": {
      "text/html": [
       "<div>\n",
       "<style scoped>\n",
       "    .dataframe tbody tr th:only-of-type {\n",
       "        vertical-align: middle;\n",
       "    }\n",
       "\n",
       "    .dataframe tbody tr th {\n",
       "        vertical-align: top;\n",
       "    }\n",
       "\n",
       "    .dataframe thead th {\n",
       "        text-align: right;\n",
       "    }\n",
       "</style>\n",
       "<table border=\"1\" class=\"dataframe\">\n",
       "  <thead>\n",
       "    <tr style=\"text-align: right;\">\n",
       "      <th></th>\n",
       "      <th>helpful</th>\n",
       "      <th>reviewText</th>\n",
       "      <th>overall</th>\n",
       "      <th>summary</th>\n",
       "      <th>unixReviewTime</th>\n",
       "      <th>datetime</th>\n",
       "    </tr>\n",
       "  </thead>\n",
       "  <tbody>\n",
       "    <tr>\n",
       "      <th>1697528</th>\n",
       "      <td>[1, 14]</td>\n",
       "      <td>wow $269.99 for the entire series on Blu Ray??...</td>\n",
       "      <td>1</td>\n",
       "      <td>Way to Expensive!! WB = GREED</td>\n",
       "      <td>1406073600</td>\n",
       "      <td>2014-07-23</td>\n",
       "    </tr>\n",
       "    <tr>\n",
       "      <th>1697529</th>\n",
       "      <td>[32, 48]</td>\n",
       "      <td>Finally, the holy grail of tv-on-dvd boxsets i...</td>\n",
       "      <td>5</td>\n",
       "      <td>HOLY BAT-BOXSET, BATMAN... I never thought thi...</td>\n",
       "      <td>1405641600</td>\n",
       "      <td>2014-07-18</td>\n",
       "    </tr>\n",
       "    <tr>\n",
       "      <th>1697530</th>\n",
       "      <td>[3, 10]</td>\n",
       "      <td>Could this be a true or I'm i dreaming batman ...</td>\n",
       "      <td>5</td>\n",
       "      <td>prayers have been answered because batman 60s ...</td>\n",
       "      <td>1405728000</td>\n",
       "      <td>2014-07-19</td>\n",
       "    </tr>\n",
       "    <tr>\n",
       "      <th>1697531</th>\n",
       "      <td>[0, 4]</td>\n",
       "      <td>I've been a fan of the series since I was a yo...</td>\n",
       "      <td>5</td>\n",
       "      <td>can't Wait!</td>\n",
       "      <td>1405987200</td>\n",
       "      <td>2014-07-22</td>\n",
       "    </tr>\n",
       "    <tr>\n",
       "      <th>1697532</th>\n",
       "      <td>[11, 23]</td>\n",
       "      <td>People seriously need to wake up and realize t...</td>\n",
       "      <td>5</td>\n",
       "      <td>The Price is Insane? People Really Need to Wak...</td>\n",
       "      <td>1405728000</td>\n",
       "      <td>2014-07-19</td>\n",
       "    </tr>\n",
       "  </tbody>\n",
       "</table>\n",
       "</div>"
      ],
      "text/plain": [
       "          helpful                                         reviewText  overall  \\\n",
       "1697528   [1, 14]  wow $269.99 for the entire series on Blu Ray??...        1   \n",
       "1697529  [32, 48]  Finally, the holy grail of tv-on-dvd boxsets i...        5   \n",
       "1697530   [3, 10]  Could this be a true or I'm i dreaming batman ...        5   \n",
       "1697531    [0, 4]  I've been a fan of the series since I was a yo...        5   \n",
       "1697532  [11, 23]  People seriously need to wake up and realize t...        5   \n",
       "\n",
       "                                                   summary  unixReviewTime  \\\n",
       "1697528                      Way to Expensive!! WB = GREED      1406073600   \n",
       "1697529  HOLY BAT-BOXSET, BATMAN... I never thought thi...      1405641600   \n",
       "1697530  prayers have been answered because batman 60s ...      1405728000   \n",
       "1697531                                        can't Wait!      1405987200   \n",
       "1697532  The Price is Insane? People Really Need to Wak...      1405728000   \n",
       "\n",
       "          datetime  \n",
       "1697528 2014-07-23  \n",
       "1697529 2014-07-18  \n",
       "1697530 2014-07-19  \n",
       "1697531 2014-07-22  \n",
       "1697532 2014-07-19  "
      ]
     },
     "execution_count": 6,
     "metadata": {},
     "output_type": "execute_result"
    }
   ],
   "source": [
    "movies_tv = movies_tv.drop(columns = ['reviewerID', 'asin', 'reviewerName', 'reviewTime'])\n",
    "instant_video = instant_video.drop(columns = ['reviewerID', 'asin', 'reviewerName', 'reviewTime'])\n",
    "\n",
    "movies_tv.tail(5)"
   ]
  },
  {
   "cell_type": "markdown",
   "metadata": {},
   "source": [
    "### Exercise 1:\n",
    "\n",
    "#### 1.1\n",
    "\n",
    "Plot histograms of all numeric quantities. Do you notice anything interesting about them?"
   ]
  },
  {
   "cell_type": "markdown",
   "metadata": {},
   "source": [
    "**Answer.** \n",
    "The histograms show that the overall rating for movies and videos is mostly 5, so we can induce that there are a lot of good and excellent movies and videos.\n",
    "UnixTimeReview in movies since time 9e+8 had slowly increased, however in 1.34e+9 it showed an increase of three times the amount of received reviews.\n",
    "On the other hand, the number of reviews in the videos was not significant until the time of 1.35e+9, reaching its maximum at 1.39e+9.\n",
    "It can be concluded that lately the number of reviews has increased."
   ]
  },
  {
   "cell_type": "code",
   "execution_count": 7,
   "metadata": {},
   "outputs": [],
   "source": [
    "import matplotlib.pyplot as plt\n",
    "import seaborn as sns\n",
    "%matplotlib inline"
   ]
  },
  {
   "cell_type": "code",
   "execution_count": 8,
   "metadata": {
    "scrolled": true
   },
   "outputs": [],
   "source": [
    "#movies_tv.describe()"
   ]
  },
  {
   "cell_type": "code",
   "execution_count": 9,
   "metadata": {
    "scrolled": false
   },
   "outputs": [
    {
     "data": {
      "image/png": "[encoded data removed]",
      "text/plain": [
       "<Figure size 432x216 with 1 Axes>"
      ]
     },
     "metadata": {
      "needs_background": "light"
     },
     "output_type": "display_data"
    }
   ],
   "source": [
    "plt.figure(figsize=(6,3))\n",
    "sns.kdeplot(movies_tv[\"overall\"],shade=True)\n",
    "plt.xlabel('overall movies');"
   ]
  },
  {
   "cell_type": "code",
   "execution_count": 10,
   "metadata": {},
   "outputs": [
    {
     "data": {
      "image/png": "[encoded data removed]",
      "text/plain": [
       "<Figure size 432x216 with 1 Axes>"
      ]
     },
     "metadata": {
      "needs_background": "light"
     },
     "output_type": "display_data"
    }
   ],
   "source": [
    "plt.figure(figsize=(6,3))\n",
    "sns.kdeplot(movies_tv[\"unixReviewTime\"],shade=True)\n",
    "plt.xlabel('unix Review Time movies');"
   ]
  },
  {
   "cell_type": "code",
   "execution_count": 11,
   "metadata": {
    "scrolled": true
   },
   "outputs": [],
   "source": [
    "#instant_video.describe()"
   ]
  },
  {
   "cell_type": "code",
   "execution_count": 12,
   "metadata": {
    "scrolled": true
   },
   "outputs": [
    {
     "data": {
      "image/png": "[encoded data removed]",
      "text/plain": [
       "<Figure size 432x216 with 1 Axes>"
      ]
     },
     "metadata": {
      "needs_background": "light"
     },
     "output_type": "display_data"
    }
   ],
   "source": [
    "plt.figure(figsize=(6,3))\n",
    "sns.kdeplot(instant_video[\"overall\"],shade=True)\n",
    "plt.xlabel('overall video');"
   ]
  },
  {
   "cell_type": "code",
   "execution_count": 13,
   "metadata": {
    "scrolled": true
   },
   "outputs": [
    {
     "data": {
      "image/png": "[encoded data removed]",
      "text/plain": [
       "<Figure size 432x216 with 1 Axes>"
      ]
     },
     "metadata": {
      "needs_background": "light"
     },
     "output_type": "display_data"
    }
   ],
   "source": [
    "plt.figure(figsize=(6,3))\n",
    "sns.kdeplot(instant_video[\"unixReviewTime\"],shade=True)\n",
    "plt.xlabel('unix Review Time');"
   ]
  },
  {
   "cell_type": "markdown",
   "metadata": {},
   "source": [
    "--------"
   ]
  },
  {
   "cell_type": "markdown",
   "metadata": {},
   "source": [
    "#### 1.2\n",
    "\n",
    "How do average ratings change over time? Plot the average rating for each year and note any trends."
   ]
  },
  {
   "cell_type": "markdown",
   "metadata": {},
   "source": [
    "**Answer.** The average rating for movies remained stable around 4.0 until 2012 where the average rose to 4.3.\n",
    "The average rating for videos reached its lowest level in 2004, but in 2006 the average rose to an average of 4.9, in the last years studied it remained at 4.3."
   ]
  },
  {
   "cell_type": "code",
   "execution_count": 14,
   "metadata": {},
   "outputs": [],
   "source": [
    "movies_tv['year'] = movies_tv['datetime'].dt.year"
   ]
  },
  {
   "cell_type": "code",
   "execution_count": 15,
   "metadata": {},
   "outputs": [
    {
     "data": {
      "text/plain": [
       "<matplotlib.axes._subplots.AxesSubplot at 0x2734349ae08>"
      ]
     },
     "execution_count": 15,
     "metadata": {},
     "output_type": "execute_result"
    },
    {
     "data": {
      "image/png": "[encoded data removed]",
      "text/plain": [
       "<Figure size 432x288 with 1 Axes>"
      ]
     },
     "metadata": {
      "needs_background": "light"
     },
     "output_type": "display_data"
    }
   ],
   "source": [
    "avg_rating= pd.DataFrame(movies_tv.groupby([\"year\"]).mean()[\"overall\"])\n",
    "avg_rating.plot()"
   ]
  },
  {
   "cell_type": "code",
   "execution_count": 16,
   "metadata": {
    "scrolled": true
   },
   "outputs": [
    {
     "data": {
      "text/plain": [
       "<matplotlib.axes._subplots.AxesSubplot at 0x273435172c8>"
      ]
     },
     "execution_count": 16,
     "metadata": {},
     "output_type": "execute_result"
    },
    {
     "data": {
      "image/png": "[encoded data removed]",
      "text/plain": [
       "<Figure size 432x288 with 1 Axes>"
      ]
     },
     "metadata": {
      "needs_background": "light"
     },
     "output_type": "display_data"
    }
   ],
   "source": [
    "avg_rating.plot.bar()"
   ]
  },
  {
   "cell_type": "code",
   "execution_count": 17,
   "metadata": {},
   "outputs": [],
   "source": [
    "instant_video['year'] = instant_video['datetime'].dt.year"
   ]
  },
  {
   "cell_type": "code",
   "execution_count": 18,
   "metadata": {},
   "outputs": [
    {
     "data": {
      "text/plain": [
       "<matplotlib.axes._subplots.AxesSubplot at 0x2734356c9c8>"
      ]
     },
     "execution_count": 18,
     "metadata": {},
     "output_type": "execute_result"
    },
    {
     "data": {
      "image/png": "[encoded data removed]",
      "text/plain": [
       "<Figure size 432x288 with 1 Axes>"
      ]
     },
     "metadata": {
      "needs_background": "light"
     },
     "output_type": "display_data"
    }
   ],
   "source": [
    "avg_ratingV= pd.DataFrame(instant_video.groupby([\"year\"]).mean()[\"overall\"])\n",
    "avg_ratingV.plot()"
   ]
  },
  {
   "cell_type": "code",
   "execution_count": 19,
   "metadata": {},
   "outputs": [
    {
     "data": {
      "text/plain": [
       "<matplotlib.axes._subplots.AxesSubplot at 0x2734359b108>"
      ]
     },
     "execution_count": 19,
     "metadata": {},
     "output_type": "execute_result"
    },
    {
     "data": {
      "image/png": "[encoded data removed]",
      "text/plain": [
       "<Figure size 432x288 with 1 Axes>"
      ]
     },
     "metadata": {
      "needs_background": "light"
     },
     "output_type": "display_data"
    }
   ],
   "source": [
    "avg_ratingV.plot.bar()"
   ]
  },
  {
   "cell_type": "markdown",
   "metadata": {},
   "source": [
    "--------"
   ]
  },
  {
   "cell_type": "markdown",
   "metadata": {},
   "source": [
    "#### 1.3\n",
    "\n",
    "Look at the average length of the review by year. Do you notice any trends?"
   ]
  },
  {
   "cell_type": "code",
   "execution_count": 20,
   "metadata": {},
   "outputs": [
    {
     "name": "stderr",
     "output_type": "stream",
     "text": [
      "[nltk_data] Downloading package punkt to\n",
      "[nltk_data]     C:\\Users\\k.castaneda\\AppData\\Roaming\\nltk_data...\n",
      "[nltk_data]   Package punkt is already up-to-date!\n",
      "[nltk_data] Downloading package stopwords to\n",
      "[nltk_data]     C:\\Users\\k.castaneda\\AppData\\Roaming\\nltk_data...\n",
      "[nltk_data]   Package stopwords is already up-to-date!\n"
     ]
    }
   ],
   "source": [
    "import nltk # imports the natural language toolkit\n",
    "nltk.download('punkt')\n",
    "nltk.download('stopwords')\n",
    "import pandas as pd\n",
    "import numpy  as np\n",
    "import string\n",
    "import plotly\n",
    "from nltk.stem import PorterStemmer "
   ]
  },
  {
   "cell_type": "code",
   "execution_count": 21,
   "metadata": {
    "scrolled": true
   },
   "outputs": [
    {
     "data": {
      "text/plain": [
       "0    This is a charming version of the classic Dick...\n",
       "1    It was good but not as emotionally moving as t...\n",
       "2    Don't get me wrong, Winkler is a wonderful cha...\n",
       "3    Henry Winkler is very good in this twist on th...\n",
       "4    This is one of the best Scrooge movies out.  H...\n",
       "Name: reviewText, dtype: object"
      ]
     },
     "execution_count": 21,
     "metadata": {},
     "output_type": "execute_result"
    }
   ],
   "source": [
    "AllReviews = movies_tv['reviewText']\n",
    "AllReviews.head()"
   ]
  },
  {
   "cell_type": "code",
   "execution_count": 22,
   "metadata": {},
   "outputs": [
    {
     "data": {
      "text/plain": [
       "'This is a charming version of the classic Dicken\\'s tale.  Henry Winkler makes a good showing as the \"Scrooge\" character.  Even though you know what will happen this version has enough of a change to make it better that average.  If you love A Christmas Carol in any version, then you will love this.'"
      ]
     },
     "execution_count": 22,
     "metadata": {},
     "output_type": "execute_result"
    }
   ],
   "source": [
    "# Print text of first Yelp review\n",
    "AllReviews[0]"
   ]
  },
  {
   "cell_type": "code",
   "execution_count": 23,
   "metadata": {
    "scrolled": true
   },
   "outputs": [
    {
     "name": "stdout",
     "output_type": "stream",
     "text": [
      "This is a charming version of the classic Dicken's tale.\n",
      "\n",
      "Henry Winkler makes a good showing as the \"Scrooge\" character.\n",
      "\n",
      "Even though you know what will happen this version has enough of a change to make it better that average.\n",
      "\n",
      "If you love A Christmas Carol in any version, then you will love this.\n",
      "\n"
     ]
    }
   ],
   "source": [
    "# sentence tokenization\n",
    "sentences = nltk.sent_tokenize(AllReviews[0])\n",
    "for sentence in sentences:\n",
    "    print(sentence)\n",
    "    print()"
   ]
  },
  {
   "cell_type": "code",
   "execution_count": 24,
   "metadata": {
    "scrolled": true
   },
   "outputs": [
    {
     "name": "stdout",
     "output_type": "stream",
     "text": [
      "It was good but not as emotionally moving as the the Christmas Carol by Dickens  I like Christmas movies that make me sigh\n",
      "['It', 'was', 'good', 'but', 'not', 'as', 'emotionally', 'moving', 'as', 'the', 'the', 'Christmas', 'Carol', 'by', 'Dickens', 'I', 'like', 'Christmas', 'movies', 'that', 'make', 'me', 'sigh']\n",
      "\n"
     ]
    }
   ],
   "source": [
    "sentences = nltk.sent_tokenize(movies_tv['reviewText'][1])\n",
    "for sentence in sentences:\n",
    "    words = nltk.word_tokenize(sentence)\n",
    "    print(sentence)\n",
    "    print(words)\n",
    "    print()"
   ]
  },
  {
   "cell_type": "code",
   "execution_count": null,
   "metadata": {},
   "outputs": [],
   "source": [
    "review_words_lengths = AllReviews.apply(lambda x: len(nltk.word_tokenize(x)))"
   ]
  },
  {
   "cell_type": "code",
   "execution_count": null,
   "metadata": {},
   "outputs": [],
   "source": [
    "min(review_words_lengths)"
   ]
  },
  {
   "cell_type": "code",
   "execution_count": null,
   "metadata": {},
   "outputs": [],
   "source": [
    "## This review has been written in a different language \n",
    "AllReviews[review_words_lengths[review_words_lengths == 2].index]"
   ]
  },
  {
   "cell_type": "code",
   "execution_count": null,
   "metadata": {},
   "outputs": [],
   "source": [
    "max(review_words_lengths)"
   ]
  },
  {
   "cell_type": "code",
   "execution_count": null,
   "metadata": {},
   "outputs": [],
   "source": [
    "AllReviews[review_words_lengths[review_words_lengths == max(review_words_lengths)].index]\n",
    "## Setting the resolution for better clarity \n",
    "from pylab import rcParams\n",
    "rcParams['figure.figsize'] = 20, 6\n",
    "review_words_lengths.hist(bins = 25)"
   ]
  },
  {
   "cell_type": "markdown",
   "metadata": {},
   "source": [
    "**Answer.**"
   ]
  },
  {
   "cell_type": "markdown",
   "metadata": {},
   "source": [
    "--------"
   ]
  },
  {
   "cell_type": "markdown",
   "metadata": {},
   "source": [
    "### Exercise 2:\n",
    "\n",
    "#### 2.1\n",
    "\n",
    "Find the ten most frequently occuring non-stop words acrooss: (i) all reviews, (ii) positive reviews, (iii) negative reviews. Do the results surprise you? Why or why not?"
   ]
  },
  {
   "cell_type": "markdown",
   "metadata": {},
   "source": [
    "**Answer.**"
   ]
  },
  {
   "cell_type": "markdown",
   "metadata": {},
   "source": [
    "--------"
   ]
  },
  {
   "cell_type": "markdown",
   "metadata": {},
   "source": [
    " #### 2.2\n",
    "\n",
    "Find words that are indicative of bad reviews. That is, words that appear often in bad reviews and *not* in good reviews. What are these words and are they surprising?"
   ]
  },
  {
   "cell_type": "markdown",
   "metadata": {},
   "source": [
    "**Answer.**"
   ]
  },
  {
   "cell_type": "markdown",
   "metadata": {},
   "source": [
    "--------"
   ]
  },
  {
   "cell_type": "markdown",
   "metadata": {},
   "source": [
    "### Exercise 3:\n",
    "\n",
    "Manually inspect the first 10 negative reviews containing the word \"good\". What do you notice? How does this suggest we ought to proceed next?"
   ]
  },
  {
   "cell_type": "markdown",
   "metadata": {},
   "source": [
    "**Answer.**"
   ]
  },
  {
   "cell_type": "markdown",
   "metadata": {},
   "source": [
    "--------"
   ]
  },
  {
   "cell_type": "markdown",
   "metadata": {},
   "source": [
    "### Exercise 4:\n",
    "\n",
    "Go through the list of bad reviews containing the word \"good\" that we found in the last question. For each review, extract the following:\n",
    "\n",
    "1. The first word after \"good\"\n",
    "2. The first word after \"good\" that is a noun or cardinal\n",
    "3. The last word before \"good\" that is a noun or cardinal"
   ]
  },
  {
   "cell_type": "markdown",
   "metadata": {},
   "source": [
    "**Answer.**"
   ]
  },
  {
   "cell_type": "markdown",
   "metadata": {},
   "source": [
    "--------"
   ]
  },
  {
   "cell_type": "markdown",
   "metadata": {},
   "source": [
    "### Exercise 5:\n",
    "\n",
    "We have seen that individual words are not always very informative. Look for the most informative bigrams and trigrams, in both positive and negative reviews. Show the most informative bigrams and trigrams and give a brief analysis of the n-grams you identified."
   ]
  },
  {
   "cell_type": "markdown",
   "metadata": {},
   "source": [
    "**Answer.**"
   ]
  },
  {
   "cell_type": "markdown",
   "metadata": {},
   "source": [
    "--------"
   ]
  },
  {
   "cell_type": "markdown",
   "metadata": {},
   "source": [
    "### Exercise 6:\n",
    "\n",
    "Throughout the above search for informative words, we have seen that unigrams are not enough, but important words (such as \"good\") are not always next to the informative words that they describe. Devise a method to extract these informative words. Provide a brief description of how you will extract the informative words."
   ]
  },
  {
   "cell_type": "markdown",
   "metadata": {},
   "source": [
    "**Answer.**"
   ]
  },
  {
   "cell_type": "markdown",
   "metadata": {},
   "source": [
    "--------"
   ]
  },
  {
   "cell_type": "markdown",
   "metadata": {},
   "source": [
    "### Exercise 7:\n",
    "\n",
    "Write a function(s) that transforms a sentence into a new text list by iteratively pairing each adjective in the sentence with the next noun that follows it in the sentence. For example, the text \"That was a good, long movie\" should return `[\"good movie\", \"long movie\"]`."
   ]
  },
  {
   "cell_type": "markdown",
   "metadata": {},
   "source": [
    "**Answer.**"
   ]
  },
  {
   "cell_type": "markdown",
   "metadata": {},
   "source": [
    "--------"
   ]
  }
 ],
 "metadata": {
  "kernelspec": {
   "display_name": "Python 3",
   "language": "python",
   "name": "python3"
  },
  "language_info": {
   "codemirror_mode": {
    "name": "ipython",
    "version": 3
   },
   "file_extension": ".py",
   "mimetype": "text/x-python",
   "name": "python",
   "nbconvert_exporter": "python",
   "pygments_lexer": "ipython3",
   "version": "3.7.6"
  }
 },
 "nbformat": 4,
 "nbformat_minor": 2
}
